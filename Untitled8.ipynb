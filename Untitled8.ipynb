{
  "nbformat": 4,
  "nbformat_minor": 0,
  "metadata": {
    "colab": {
      "provenance": []
    },
    "kernelspec": {
      "name": "python3",
      "display_name": "Python 3"
    },
    "language_info": {
      "name": "python"
    }
  },
  "cells": [
    {
      "cell_type": "markdown",
      "source": [
        "# Assignment:2"
      ],
      "metadata": {
        "id": "uMtxeuaQex0m"
      }
    },
    {
      "cell_type": "code",
      "source": [
        "#Write a Python program to add an item to a tuple.\n",
        "old_tuple=(1,2,3,4,5)\n",
        "x=list(old_tuple)\n",
        "x.insert(0,0)\n",
        "new_list=x\n",
        "new_tuple=tuple(new_list)\n",
        "print(new_tuple)"
      ],
      "metadata": {
        "colab": {
          "base_uri": "https://localhost:8080/"
        },
        "id": "OoOo4RZfKssD",
        "outputId": "3ac165d9-58c9-4612-a7fc-e7df957c87a9"
      },
      "execution_count": 2,
      "outputs": [
        {
          "output_type": "stream",
          "name": "stdout",
          "text": [
            "(0, 1, 2, 3, 4, 5)\n"
          ]
        }
      ]
    },
    {
      "cell_type": "code",
      "source": [
        "my_list = [1, 2, 3, 4, 5,6]\n",
        "total_sum = 0\n",
        "for item in my_list:\n",
        "    total_sum += item\n",
        "print(\"Sum of all items in the list:\", total_sum)"
      ],
      "metadata": {
        "colab": {
          "base_uri": "https://localhost:8080/"
        },
        "id": "TSq29z3wK0u0",
        "outputId": "144c4267-250e-4a8d-f1a3-0785a27879f7"
      },
      "execution_count": 3,
      "outputs": [
        {
          "output_type": "stream",
          "name": "stdout",
          "text": [
            "Sum of all items in the list: 21\n"
          ]
        }
      ]
    },
    {
      "cell_type": "code",
      "source": [
        "my_list = [1, 2, 3, 4]\n",
        "total_mul= 1\n",
        "for item in my_list:\n",
        "    total_mul*= item\n",
        "print(\"multiply of all items in the list:\", total_mul)"
      ],
      "metadata": {
        "colab": {
          "base_uri": "https://localhost:8080/"
        },
        "id": "2xO5C6QJK-So",
        "outputId": "9b6c63c9-df84-4f8d-c2bb-d342744ab5ef"
      },
      "execution_count": 4,
      "outputs": [
        {
          "output_type": "stream",
          "name": "stdout",
          "text": [
            "multiply of all items in the list: 24\n"
          ]
        }
      ]
    },
    {
      "cell_type": "code",
      "source": [
        "my_list = [4,2,6,1,8]\n",
        "smallest=my_list[0]\n",
        "for num in my_list:\n",
        "    if num < smallest:\n",
        "        smallest = num\n",
        "print(\"The smallest number in the list is:\", smallest)"
      ],
      "metadata": {
        "colab": {
          "base_uri": "https://localhost:8080/"
        },
        "id": "MaZPEDGELEUC",
        "outputId": "322a24d5-5855-4520-e71c-723cd391daaf"
      },
      "execution_count": 5,
      "outputs": [
        {
          "output_type": "stream",
          "name": "stdout",
          "text": [
            "The smallest number in the list is: 1\n"
          ]
        }
      ]
    },
    {
      "cell_type": "code",
      "source": [
        "my_list = [4,2,6,1,8]\n",
        "largest_number=my_list[0]\n",
        "for num in my_list:\n",
        "    if num > largest_number:\n",
        "        largest_number = num\n",
        "print(\"The largest number in the list is:\", largest_number)"
      ],
      "metadata": {
        "colab": {
          "base_uri": "https://localhost:8080/"
        },
        "id": "bdLxGt4wLEKB",
        "outputId": "30a6d339-605e-4c35-98b4-5a1770f3438c"
      },
      "execution_count": 6,
      "outputs": [
        {
          "output_type": "stream",
          "name": "stdout",
          "text": [
            "The largest number in the list is: 8\n"
          ]
        }
      ]
    },
    {
      "cell_type": "code",
      "source": [
        "my_list = ['Eman', 'Mohamed','Moheb', 246, 'Eldin', 'Elnawawy', 426]\n",
        "str_count=0\n",
        "for item in my_list:\n",
        "  if isinstance(item, str):  # Check if the item is a string\n",
        "        str_count += 1\n",
        "\n",
        "print(\"Number of strings in the list:\", str_count)"
      ],
      "metadata": {
        "colab": {
          "base_uri": "https://localhost:8080/"
        },
        "id": "havj68D_LD8d",
        "outputId": "791c66fb-d5cf-40d5-df60-8c12f7df68a8"
      },
      "execution_count": 7,
      "outputs": [
        {
          "output_type": "stream",
          "name": "stdout",
          "text": [
            "Number of strings in the list: 5\n"
          ]
        }
      ]
    },
    {
      "cell_type": "code",
      "source": [
        "my_list=[2,'serag',4,'eman',6,'younes']\n",
        "copy_list=my_list\n",
        "print(\"my_list:\", my_list)\n",
        "print(\"copy_list:\", copy_list)"
      ],
      "metadata": {
        "colab": {
          "base_uri": "https://localhost:8080/"
        },
        "id": "o3AnGGYjLZCl",
        "outputId": "dd41f065-9547-4573-bed6-1c4043fffc50"
      },
      "execution_count": 8,
      "outputs": [
        {
          "output_type": "stream",
          "name": "stdout",
          "text": [
            "my_list: [2, 'serag', 4, 'eman', 6, 'younes']\n",
            "copy_list: [2, 'serag', 4, 'eman', 6, 'younes']\n"
          ]
        }
      ]
    },
    {
      "cell_type": "code",
      "source": [
        "my_list=[2,'serag',4,'eman',6,'younes']\n",
        "print(\"Before:\",my_list)\n",
        "my_list.remove('serag')\n",
        "print(\"After:\",my_list)"
      ],
      "metadata": {
        "colab": {
          "base_uri": "https://localhost:8080/"
        },
        "id": "P3a-Moz_LY-S",
        "outputId": "0d2e6e7a-3e71-46ae-a9a7-1c1e848900c9"
      },
      "execution_count": 9,
      "outputs": [
        {
          "output_type": "stream",
          "name": "stdout",
          "text": [
            "Before: [2, 'serag', 4, 'eman', 6, 'younes']\n",
            "After: [2, 4, 'eman', 6, 'younes']\n"
          ]
        }
      ]
    },
    {
      "cell_type": "code",
      "source": [
        "set1 = {1, 2}\n",
        "set2 = {1, 2, 3, 4}\n",
        "check_subset=set1<=set2\n",
        "if check_subset:\n",
        "    print(\"set1 is a subset of set2\")\n",
        "else:\n",
        "    print(\"set1 is not a subset of set2\")\n"
      ],
      "metadata": {
        "colab": {
          "base_uri": "https://localhost:8080/"
        },
        "id": "nwwoG8pBLY84",
        "outputId": "84b4d797-d7af-494f-e888-11af0eac608c"
      },
      "execution_count": 10,
      "outputs": [
        {
          "output_type": "stream",
          "name": "stdout",
          "text": [
            "set1 is a subset of set2\n"
          ]
        }
      ]
    },
    {
      "cell_type": "code",
      "source": [
        "my_set={'Amit learning','machine learning','eng:Mohamed'}\n",
        "my_set.clear()\n",
        "print(\"after clear:\",my_set)"
      ],
      "metadata": {
        "colab": {
          "base_uri": "https://localhost:8080/"
        },
        "id": "x8GP81UaLuTa",
        "outputId": "f67d9d0b-99bb-449e-bea2-eb9331634257"
      },
      "execution_count": 11,
      "outputs": [
        {
          "output_type": "stream",
          "name": "stdout",
          "text": [
            "after clear: set()\n"
          ]
        }
      ]
    },
    {
      "cell_type": "code",
      "source": [
        "my_set={10,40,30,50,20}\n",
        "max_value=max(my_set)\n",
        "min_value=min(my_set)\n",
        "print(\"Maximum value in the set:\", max_value)"
      ],
      "metadata": {
        "colab": {
          "base_uri": "https://localhost:8080/"
        },
        "id": "2H7uNwwRLuO6",
        "outputId": "e2364447-85bf-438a-af12-f694451b4a72"
      },
      "execution_count": 12,
      "outputs": [
        {
          "output_type": "stream",
          "name": "stdout",
          "text": [
            "Maximum value in the set: 50\n"
          ]
        }
      ]
    },
    {
      "cell_type": "code",
      "source": [
        "my_tuple=('yousef','ahmed','dina')\n",
        "Index_of_item=my_tuple.index('dina')\n",
        "print(\"Index_of:\",Index_of_item)"
      ],
      "metadata": {
        "colab": {
          "base_uri": "https://localhost:8080/"
        },
        "id": "muKlRqFXLuNc",
        "outputId": "ed0129b6-1d6f-4f3b-92ed-320d866520c6"
      },
      "execution_count": 13,
      "outputs": [
        {
          "output_type": "stream",
          "name": "stdout",
          "text": [
            "Index_of: 2\n"
          ]
        }
      ]
    },
    {
      "cell_type": "code",
      "source": [
        "tuple_of_tuple=((1,'Amit'),(2,'course'),('Key3','value3'))\n",
        "tuple_to_dict=dict(tuple_of_tuple)\n",
        "print(\"dictionary:\",tuple_to_dict)"
      ],
      "metadata": {
        "colab": {
          "base_uri": "https://localhost:8080/"
        },
        "id": "Osj7JJoNLuJs",
        "outputId": "d2839614-8884-4fe6-cc06-664dc07f0196"
      },
      "execution_count": 15,
      "outputs": [
        {
          "output_type": "stream",
          "name": "stdout",
          "text": [
            "dictionary: {1: 'Amit', 2: 'course', 'Key3': 'value3'}\n"
          ]
        }
      ]
    },
    {
      "cell_type": "code",
      "source": [
        "#ex:14\n",
        "list_of_tuples = [(1, 'a'), (2, 'b'), (3, 'c')]\n",
        "\n",
        "# Unzip the list of tuples into individual lists\n",
        "unzipped_lists = list(zip(*list_of_tuples))\n",
        "\n",
        "# Print the unzipped lists\n",
        "for i, lst in enumerate(unzipped_lists):\n",
        "    print(\"List\", i+1, \":\", lst)"
      ],
      "metadata": {
        "colab": {
          "base_uri": "https://localhost:8080/"
        },
        "id": "oF_KhnrXMrYO",
        "outputId": "5f3c4d17-8a9c-4cda-d2a0-a5dd46886747"
      },
      "execution_count": 49,
      "outputs": [
        {
          "output_type": "stream",
          "name": "stdout",
          "text": [
            "List 1 : (1, 2, 3)\n",
            "List 2 : ('a', 'b', 'c')\n"
          ]
        }
      ]
    },
    {
      "cell_type": "code",
      "execution_count": 1,
      "metadata": {
        "colab": {
          "base_uri": "https://localhost:8080/"
        },
        "id": "7iCxZ8d2Kljk",
        "outputId": "9c7a9a4d-2b4a-4c26-bf49-2c2da46b654b"
      },
      "outputs": [
        {
          "output_type": "stream",
          "name": "stdout",
          "text": [
            "(6, 5, 4, 3, 2, 1, 0)\n"
          ]
        }
      ],
      "source": [
        "my_tuple= (0,1,2,3,4,5,6)\n",
        "\n",
        "print(tuple(reversed(my_tuple)))"
      ]
    },
    {
      "cell_type": "code",
      "source": [
        "list_of_tuple=[(1,'youssef'),(2,'younes'),(3,'yasin')]\n",
        "tuple_to_dict=dict(list_of_tuple)\n",
        "print(\"dictionary:\",tuple_to_dict)"
      ],
      "metadata": {
        "colab": {
          "base_uri": "https://localhost:8080/"
        },
        "id": "zThCQtpuMskk",
        "outputId": "6e197dfc-78a5-4b98-8b04-69acf41652d8"
      },
      "execution_count": 16,
      "outputs": [
        {
          "output_type": "stream",
          "name": "stdout",
          "text": [
            "dictionary: {1: 'youssef', 2: 'younes', 3: 'yasin'}\n"
          ]
        }
      ]
    },
    {
      "cell_type": "code",
      "source": [
        "# Sample list of tuples\n",
        "sample_list = [(1, 2, 3), (5, 6, 7), (8, 9, 10)]\n",
        "\n",
        "# Value to replace the last element\n",
        "new_value = 4\n",
        "\n",
        "# Replace the last value of tuples in the list using a loop\n",
        "modified_list = []\n",
        "for i in sample_list:\n",
        "    modified_list.append(i[:-1] + (new_value,))\n",
        "\n",
        "# Print the modified list\n",
        "print(\"Modified list:\", modified_list)\n"
      ],
      "metadata": {
        "colab": {
          "base_uri": "https://localhost:8080/"
        },
        "id": "DA2veTwZOfS0",
        "outputId": "19ebf31a-b052-4fc3-b223-df931cb2f530"
      },
      "execution_count": 21,
      "outputs": [
        {
          "output_type": "stream",
          "name": "stdout",
          "text": [
            "Modified list: [(1, 2, 4), (5, 6, 4), (8, 9, 4)]\n"
          ]
        }
      ]
    },
    {
      "cell_type": "code",
      "source": [
        "# #ex:18\n",
        "sample_tuple = (10.5, 5.2 , 8.7)\n",
        "my_list=list(sample_tuple)\n",
        "my_list.sort()\n",
        "tuple_from_list=tuple(my_list)\n",
        "print(tuple_from_list)\n",
        "sample_tuple2 = (('a', 10.5), ('b', 5.2), ('c', 8.7))\n",
        "\n",
        "# Sort the tuple by its float element\n",
        "sorted_tuple = tuple(sorted(sample_tuple2, key=lambda x: x[1]))\n",
        "\n",
        "# Print the sorted tuple\n",
        "print(\"Sorted tuple by its float element:\", sorted_tuple)"
      ],
      "metadata": {
        "colab": {
          "base_uri": "https://localhost:8080/"
        },
        "id": "0_ABG0wmSZDB",
        "outputId": "8a244e46-1f44-4bf4-cb67-7fe517da8c29"
      },
      "execution_count": 48,
      "outputs": [
        {
          "output_type": "stream",
          "name": "stdout",
          "text": [
            "(5.2, 8.7, 10.5)\n",
            "Sorted tuple by its float element: (('b', 5.2), ('c', 8.7), ('a', 10.5))\n"
          ]
        }
      ]
    },
    {
      "cell_type": "code",
      "source": [
        "a = 5\n",
        "b = 10\n",
        "\n",
        "print(\"Maximum between\", a, \"and\", b, \"is:\", a if a > b else b)"
      ],
      "metadata": {
        "colab": {
          "base_uri": "https://localhost:8080/"
        },
        "id": "bLYY1KDsX13m",
        "outputId": "932dfb98-7744-43cd-9ca9-3ab5d61830d6"
      },
      "execution_count": 22,
      "outputs": [
        {
          "output_type": "stream",
          "name": "stdout",
          "text": [
            "Maximum between 5 and 10 is: 10\n"
          ]
        }
      ]
    },
    {
      "cell_type": "code",
      "source": [
        "# Print the maximum between a, b, and c using a one-line conditional statement\n",
        "a = 5\n",
        "b = 10\n",
        "c = 7\n",
        "\n",
        "print(\"Maximum between\", a, \",\", b, \", and\", c, \"is:\", max(a, b, c))"
      ],
      "metadata": {
        "colab": {
          "base_uri": "https://localhost:8080/"
        },
        "id": "LxDRSXLuX6tA",
        "outputId": "bac2d4ab-7825-4381-883f-d429c5a4f7c3"
      },
      "execution_count": 23,
      "outputs": [
        {
          "output_type": "stream",
          "name": "stdout",
          "text": [
            "Maximum between 5 , 10 , and 7 is: 10\n"
          ]
        }
      ]
    },
    {
      "cell_type": "code",
      "source": [
        "num = -4\n",
        "print(\"The number\", num, \"is:\", \"negative\" if num < 0 else \"positive\")"
      ],
      "metadata": {
        "colab": {
          "base_uri": "https://localhost:8080/"
        },
        "id": "I3_YU6C_YVzS",
        "outputId": "55f5b170-e943-4c61-c317-f1fb0a350fb3"
      },
      "execution_count": 24,
      "outputs": [
        {
          "output_type": "stream",
          "name": "stdout",
          "text": [
            "The number -4 is: negative\n"
          ]
        }
      ]
    },
    {
      "cell_type": "code",
      "source": [
        "# Check whether the number is even or odd using a one-line conditional statement\n",
        "num = 9\n",
        "print(\"The number\", num, \"is:\", \"even\" if num % 2 == 0 else \"odd\")"
      ],
      "metadata": {
        "colab": {
          "base_uri": "https://localhost:8080/"
        },
        "id": "PcN9cJO2YoNm",
        "outputId": "432eba13-37aa-4e03-f681-109be5bd5aa5"
      },
      "execution_count": 25,
      "outputs": [
        {
          "output_type": "stream",
          "name": "stdout",
          "text": [
            "The number 9 is: odd\n"
          ]
        }
      ]
    },
    {
      "cell_type": "code",
      "source": [
        "year = 2024\n",
        "print(\"Leap year\" if (year % 4 == 0 and year % 100 != 0) or (year % 400 == 0) else \"Not a leap year\")"
      ],
      "metadata": {
        "colab": {
          "base_uri": "https://localhost:8080/"
        },
        "id": "1Lnbd1qqZHUT",
        "outputId": "476944e1-ec20-4221-c632-83d39b3fcd61"
      },
      "execution_count": 29,
      "outputs": [
        {
          "output_type": "stream",
          "name": "stdout",
          "text": [
            "Leap year\n"
          ]
        }
      ]
    },
    {
      "cell_type": "code",
      "source": [
        "weekdays = [\"Monday\", \"Tuesday\", \"Wednesday\", \"Thursday\", \"Friday\", \"Saturday\", \"Sunday\"]\n",
        "index = 4\n",
        "print(\"Weekday at index\", index, \"is:\", weekdays[index])"
      ],
      "metadata": {
        "colab": {
          "base_uri": "https://localhost:8080/"
        },
        "id": "3uZIu03RaEAg",
        "outputId": "aea71f60-4b2d-4108-c658-e048c1bf1727"
      },
      "execution_count": 31,
      "outputs": [
        {
          "output_type": "stream",
          "name": "stdout",
          "text": [
            "Weekday at index 4 is: Friday\n"
          ]
        }
      ]
    },
    {
      "cell_type": "code",
      "source": [
        "# char = 'a'\n",
        "# while char <= 'z':\n",
        "#     print(char, end=' ')\n",
        "#     char = chr(ord(char) + 1)"
      ],
      "metadata": {
        "colab": {
          "base_uri": "https://localhost:8080/"
        },
        "id": "ntxqeLBPacUX",
        "outputId": "456340e9-2ace-4541-897c-4568f3642575"
      },
      "execution_count": 32,
      "outputs": [
        {
          "output_type": "stream",
          "name": "stdout",
          "text": [
            "a b c d e f g h i j k l m n o p q r s t u v w x y z "
          ]
        }
      ]
    },
    {
      "cell_type": "code",
      "source": [
        "numbers = [2, 1, 4, 5 ,3]\n",
        "numbers.sort()\n",
        "print(\"sorted list:\",numbers)\n",
        "numbers.reverse()\n",
        "# Print the reverse of the list\n",
        "print(\"Reversed list:\", numbers)"
      ],
      "metadata": {
        "colab": {
          "base_uri": "https://localhost:8080/"
        },
        "id": "giBUFam9as0r",
        "outputId": "a125b64d-3c1a-4eef-bd51-fceb97010e58"
      },
      "execution_count": 39,
      "outputs": [
        {
          "output_type": "stream",
          "name": "stdout",
          "text": [
            "sorted list: [1, 2, 3, 4, 5]\n",
            "Reversed list: [5, 4, 3, 2, 1]\n"
          ]
        }
      ]
    },
    {
      "cell_type": "code",
      "source": [
        "# Print the multiplication table of the given number\n",
        "num=int(input(\"please enter the number\"))\n",
        "print(\"Multiplication table of\", num, \":\")\n",
        "for i in range(1, 13):\n",
        "    print(num, \"x\", i, \"=\", num * i)"
      ],
      "metadata": {
        "colab": {
          "base_uri": "https://localhost:8080/"
        },
        "id": "WV40YjnMcaLX",
        "outputId": "147c2d69-f1db-49a0-b895-7372f1b31dbd"
      },
      "execution_count": 41,
      "outputs": [
        {
          "output_type": "stream",
          "name": "stdout",
          "text": [
            "please enter the number6\n",
            "Multiplication table of 6 :\n",
            "6 x 1 = 6\n",
            "6 x 2 = 12\n",
            "6 x 3 = 18\n",
            "6 x 4 = 24\n",
            "6 x 5 = 30\n",
            "6 x 6 = 36\n",
            "6 x 7 = 42\n",
            "6 x 8 = 48\n",
            "6 x 9 = 54\n",
            "6 x 10 = 60\n",
            "6 x 11 = 66\n",
            "6 x 12 = 72\n"
          ]
        }
      ]
    },
    {
      "cell_type": "code",
      "source": [
        "# Print all even numbers between 1 to 100 using a while loop\n",
        "num = 1\n",
        "print(\"Even numbers between 1 to 100:\")\n",
        "while num <= 100:\n",
        "    if num % 2 == 0:\n",
        "        print(num, end=\" \")\n",
        "    num += 1"
      ],
      "metadata": {
        "colab": {
          "base_uri": "https://localhost:8080/"
        },
        "id": "Ugd4snq9cyin",
        "outputId": "69042c1b-21a4-49ca-c7f0-67be536e665e"
      },
      "execution_count": 42,
      "outputs": [
        {
          "output_type": "stream",
          "name": "stdout",
          "text": [
            "Even numbers between 1 to 100:\n",
            "2 4 6 8 10 12 14 16 18 20 22 24 26 28 30 32 34 36 38 40 42 44 46 48 50 52 54 56 58 60 62 64 66 68 70 72 74 76 78 80 82 84 86 88 90 92 94 96 98 100 "
          ]
        }
      ]
    }
  ]
}